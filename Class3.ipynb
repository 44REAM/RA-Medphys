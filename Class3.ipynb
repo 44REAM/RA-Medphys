{
  "nbformat": 4,
  "nbformat_minor": 0,
  "metadata": {
    "colab": {
      "provenance": [],
      "authorship_tag": "ABX9TyNOBSKQPL6llbp/HcfZ3/vL",
      "include_colab_link": true
    },
    "kernelspec": {
      "name": "python3",
      "display_name": "Python 3"
    },
    "language_info": {
      "name": "python"
    }
  },
  "cells": [
    {
      "cell_type": "markdown",
      "metadata": {
        "id": "view-in-github",
        "colab_type": "text"
      },
      "source": [
        "<a href=\"https://colab.research.google.com/github/44REAM/RA-Medphys/blob/main/Class3.ipynb\" target=\"_parent\"><img src=\"https://colab.research.google.com/assets/colab-badge.svg\" alt=\"Open In Colab\"/></a>"
      ]
    },
    {
      "cell_type": "markdown",
      "source": [
        "## Particle constant\n",
        "\n",
        "https://docs.scipy.org/doc/scipy/reference/constants.html"
      ],
      "metadata": {
        "id": "F-qTR-HquosI"
      }
    },
    {
      "cell_type": "code",
      "execution_count": 2,
      "metadata": {
        "id": "9mTmohGEudTh"
      },
      "outputs": [],
      "source": [
        "import scipy.constants as constants"
      ]
    },
    {
      "cell_type": "code",
      "source": [
        "# electron mass constant (kg)\n",
        "constants.m_e"
      ],
      "metadata": {
        "colab": {
          "base_uri": "https://localhost:8080/"
        },
        "id": "qk6f8m1Bu3AJ",
        "outputId": "908c0c41-5303-4143-a677-3363fc962964"
      },
      "execution_count": 3,
      "outputs": [
        {
          "output_type": "execute_result",
          "data": {
            "text/plain": [
              "9.1093837015e-31"
            ]
          },
          "metadata": {},
          "execution_count": 3
        }
      ]
    },
    {
      "cell_type": "code",
      "source": [
        "# elementary charge\n",
        "constants.e"
      ],
      "metadata": {
        "colab": {
          "base_uri": "https://localhost:8080/"
        },
        "id": "xMx4_r7Eu9QW",
        "outputId": "6f6a8737-0d44-4fc7-b6da-bcbb77425e49"
      },
      "execution_count": 4,
      "outputs": [
        {
          "output_type": "execute_result",
          "data": {
            "text/plain": [
              "1.602176634e-19"
            ]
          },
          "metadata": {},
          "execution_count": 4
        }
      ]
    },
    {
      "cell_type": "code",
      "source": [
        "# elementary charge: charge for single proton (value, unit, uncertainty)\n",
        "constants.physical_constants['elementary charge']"
      ],
      "metadata": {
        "colab": {
          "base_uri": "https://localhost:8080/"
        },
        "id": "WlbtY5UHvE2H",
        "outputId": "71d9fe27-fca5-4545-b9f1-dbc96be0b342"
      },
      "execution_count": 7,
      "outputs": [
        {
          "output_type": "execute_result",
          "data": {
            "text/plain": [
              "(1.602176634e-19, 'C', 0.0)"
            ]
          },
          "metadata": {},
          "execution_count": 7
        }
      ]
    },
    {
      "cell_type": "code",
      "source": [
        "# 1 AMU\n",
        "constants.physical_constants['atomic mass unit-kilogram relationship']"
      ],
      "metadata": {
        "colab": {
          "base_uri": "https://localhost:8080/"
        },
        "id": "ZRoFJSKZwAko",
        "outputId": "03c4d73b-b44c-4c9c-92f6-e43fcb613c97"
      },
      "execution_count": 9,
      "outputs": [
        {
          "output_type": "execute_result",
          "data": {
            "text/plain": [
              "(1.6605390666e-27, 'kg', 5e-37)"
            ]
          },
          "metadata": {},
          "execution_count": 9
        }
      ]
    }
  ]
}